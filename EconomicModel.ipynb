{
 "cells": [
  {
   "cell_type": "markdown",
   "metadata": {},
   "source": [
    "## Оценка эффекта от внедрения полученного решения"
   ]
  },
  {
   "cell_type": "code",
   "execution_count": 1,
   "metadata": {},
   "outputs": [
    {
     "name": "stdout",
     "output_type": "stream",
     "text": [
      "Populating the interactive namespace from numpy and matplotlib\n"
     ]
    },
    {
     "name": "stderr",
     "output_type": "stream",
     "text": [
      "C:\\Users\\swink_000\\Anaconda2\\lib\\site-packages\\IPython\\core\\magics\\pylab.py:161: UserWarning: pylab import has clobbered these variables: ['plt']\n",
      "`%matplotlib` prevents importing * from pylab and numpy\n",
      "  \"\\n`%matplotlib` prevents importing * from pylab and numpy\"\n"
     ]
    }
   ],
   "source": [
    "import pandas as pd\n",
    "import numpy as np\n",
    "import matplotlib.pylab as plt\n",
    "%pylab inline\n",
    "\n",
    "import warnings\n",
    "warnings.filterwarnings(\"ignore\")\n",
    "plt.rcParams['figure.figsize'] = 7, 5\n",
    "plt.rcParams['axes.grid'] = True\n",
    "mpl.rcParams['font.family'] = 'Ubuntu'\n",
    "plt.rc('text', usetex=False)\n",
    "plt.rc('font', family='serif')\n",
    "plt.rc('font', weight='bold')\n",
    "plt.rc('xtick', labelsize=10) \n",
    "plt.rc('ytick', labelsize=10)\n",
    "# чтобы был русский шрифт\n",
    "from matplotlib import rc\n",
    "font = {'family': 'Verdana',\n",
    "        'weight': 'normal'}\n",
    "rc('font', **font)"
   ]
  },
  {
   "cell_type": "markdown",
   "metadata": {},
   "source": [
    "### Оценка потенциального экономического эффекта от внедрения полученного решения"
   ]
  },
  {
   "cell_type": "markdown",
   "metadata": {
    "collapsed": true
   },
   "source": [
    "1) Введем следующие параметры в модель оценки внедрения решения на платформе:\n",
    "* Кол-во денег, которое приносит пользователь в месяц - CustomerYield(CY)\n",
    "* Кол-во денег, которое мы будем вкладывать в его удержание - OnCustomerSpendings(OCS)\n",
    "* Какова вероятность, что предложение будет принято им - ProbabilityOfAcceptance(PoA)\n",
    "* На кого будет расчитана компания по удержанию"
   ]
  },
  {
   "cell_type": "code",
   "execution_count": 8,
   "metadata": {},
   "outputs": [
    {
     "data": {
      "text/plain": [
       "1000.1880861818863"
      ]
     },
     "execution_count": 8,
     "metadata": {},
     "output_type": "execute_result"
    }
   ],
   "source": [
    "np.random.normal(1000, 1000**0.05)"
   ]
  },
  {
   "cell_type": "markdown",
   "metadata": {},
   "source": [
    "Определим парметры модели:\n",
    "* CY = 1000\n",
    "* OCS = 25\n",
    "* PoA = 60%\n",
    "* Компания рассчитана на пользователей склонных к оттоку, которых верно определила модель -ActualChurnCustomers(ACC)\n",
    "* Все пользователи, кого модель пометила как отрицательных - ModelChurnCustomers(MCC)"
   ]
  },
  {
   "cell_type": "markdown",
   "metadata": {},
   "source": [
    "Экономический эффект - прибыль/убыток от проведения компании(Result)\n",
    "\n",
    "Если Result > 0, то прибыль, < 0 - убыток."
   ]
  },
  {
   "cell_type": "markdown",
   "metadata": {},
   "source": [
    "Модель расчета экономического эффекта на следующий месяц:\n",
    "\n",
    "$Result = PoA * ACC * (CY + N(CY,\\sqrt {CY})) - OCS * MCC$"
   ]
  },
  {
   "cell_type": "markdown",
   "metadata": {},
   "source": [
    "Рассмотрим результаты расчета метрик финальной модели на отложенной выборке:\n",
    "* Roc-auc = 0.68\n",
    "* Recall = 0.64\n",
    "* Precision = 0.14\n",
    "* Confusion Matrix:\n",
    "\\begin{vmatrix}\n",
    "4624 & 2755\\\\\n",
    "165 &  456\\\\\n",
    "\\end{vmatrix}"
   ]
  },
  {
   "cell_type": "markdown",
   "metadata": {},
   "source": [
    "Получается, вероятность того, что случайно выбранный из предсказанной моделью выборки объект -1 с вероятностью 14% окажется отточным пользователем. Такая низкая вероятность обуславливается сильной несбалансированностью выборки. В тоже время, без модели, вероятность правильно предсказать, каким является выбранный объект составляла 7%. "
   ]
  },
  {
   "cell_type": "code",
   "execution_count": 2,
   "metadata": {
    "collapsed": true
   },
   "outputs": [],
   "source": [
    "#функция профита\n",
    "def profitFunction(MCC = 3211, modelPrecision = 0.14, CY = 1000, OCS = 25, PoA = 0.6):\n",
    "    ACC = MCC*modelPrecision\n",
    "    profit = PoA*ACC*(CY + np.random.normal(CY,CY**0.5)) - OCS*MCC\n",
    "    return profit"
   ]
  },
  {
   "cell_type": "markdown",
   "metadata": {},
   "source": [
    "Найдем оптимальное количество пользователей для максимального профита"
   ]
  },
  {
   "cell_type": "code",
   "execution_count": 3,
   "metadata": {},
   "outputs": [
    {
     "data": {
      "text/plain": [
       "<matplotlib.text.Text at 0xfba7588>"
      ]
     },
     "execution_count": 3,
     "metadata": {},
     "output_type": "execute_result"
    },
    {
     "data": {
      "image/png": "[encoded data removed]",
      "text/plain": [
       "<matplotlib.figure.Figure at 0x54ad630>"
      ]
     },
     "metadata": {},
     "output_type": "display_data"
    }
   ],
   "source": [
    "modelSelectedPoints = range(0, 10000, 200)\n",
    "profit = [profitFunction(MCC = i, CY = 100) for i in modelSelectedPoints]\n",
    "plt.plot(modelSelectedPoints, profit)\n",
    "\n",
    "plt.title(\"Profit to Model Churn Selection\")\n",
    "plt.xlabel(\"Number of model selected objects\")\n",
    "plt.ylabel(\"Profit\")"
   ]
  },
  {
   "cell_type": "markdown",
   "metadata": {},
   "source": [
    "Как видно из рисунка, увеличение количества объектов ведет к разорению. Это свидетельствует от том, что стоит повысить параметр дохода, который клиенты приносят компании(или снизить размер вложений в клиента)."
   ]
  },
  {
   "cell_type": "markdown",
   "metadata": {},
   "source": [
    "3) Рассмотрим, как влияет вероятность, что пользователь примет наше предложение, на профит"
   ]
  },
  {
   "cell_type": "code",
   "execution_count": 10,
   "metadata": {},
   "outputs": [
    {
     "data": {
      "text/plain": [
       "<matplotlib.text.Text at 0xfff86a0>"
      ]
     },
     "execution_count": 10,
     "metadata": {},
     "output_type": "execute_result"
    },
    {
     "data": {
      "image/png": "[encoded data removed]",
      "text/plain": [
       "<matplotlib.figure.Figure at 0x1007c080>"
      ]
     },
     "metadata": {},
     "output_type": "display_data"
    }
   ],
   "source": [
    "probOfAccp = list(np.linspace(0.1, 1, 10))\n",
    "profit = [profitFunction(PoA = i, CY = 100) for i in probOfAccp]\n",
    "plt.plot(probOfAccp, profit, 'r')\n",
    "\n",
    "plt.title(\"Profit to Probability of Acceptance\")\n",
    "plt.xlabel(\"Probability of Acceptance\")\n",
    "plt.ylabel(\"Profit\")"
   ]
  },
  {
   "cell_type": "markdown",
   "metadata": {},
   "source": [
    "Модель линейна, значит и при более активных мерах удержания, можно увеличить профит от него."
   ]
  },
  {
   "cell_type": "markdown",
   "metadata": {},
   "source": [
    "4) Как видно из предыдущих графиков, применение модели становится не убыточно при условии, что клиент приносит значительно большую прибыль, чем на него тратятся. На самом деле, учитывая размер признакового пространства и очень маленький процент оттока, это данные такой организации, где клиенты приносят достаточно много дохода. Дальше сделаем CY = 1000."
   ]
  },
  {
   "cell_type": "markdown",
   "metadata": {},
   "source": [
    "5) Оценим изменение экономического эффекта при изменениях метрики качества(тут метрика precision)"
   ]
  },
  {
   "cell_type": "code",
   "execution_count": 6,
   "metadata": {
    "scrolled": true
   },
   "outputs": [
    {
     "name": "stdout",
     "output_type": "stream",
     "text": [
      "At modelPrecision = 0.14, profit = 193990.409634\n",
      "At modelPrecision = 0.15, profit = 459914.885544\n",
      "At modelPrecision = 0.15, profit = 495173.022468\n",
      "At modelPrecision = 0.17, profit = 569347.074932\n"
     ]
    }
   ],
   "source": [
    "print \"At modelPrecision = 0.14, profit = {}\".format(profitFunction(MCC = 3211, modelPrecision = 0.07,\n",
    "                                                                    CY = 1000, OCS = 25, PoA = 0.6))\n",
    "print \"At modelPrecision = 0.15, profit = {}\".format(profitFunction(MCC = 3211, modelPrecision = 0.14,\n",
    "                                                                    CY = 1000, OCS = 25, PoA = 0.6))\n",
    "print \"At modelPrecision = 0.15, profit = {}\".format(profitFunction(MCC = 3211, modelPrecision = 0.15,\n",
    "                                                                    CY = 1000, OCS = 25, PoA = 0.6))\n",
    "print \"At modelPrecision = 0.17, profit = {}\".format(profitFunction(MCC = 3211, modelPrecision = 0.17,\n",
    "                                                                    CY = 1000, OCS = 25, PoA = 0.6))"
   ]
  },
  {
   "cell_type": "markdown",
   "metadata": {},
   "source": [
    "6) Улучшение качества на 3% может принести компании почти 125000$ при заданных начальных параметрах, в данном случае это действительно оправданно вкладывать деньги в улучшение модели, так как это позволит компании зарабатывать значительно больше денег каждый месяц при успешном проведении компании по удерживанию клиентов."
   ]
  }
 ],
 "metadata": {
  "kernelspec": {
   "display_name": "Python 2",
   "language": "python",
   "name": "python2"
  },
  "language_info": {
   "codemirror_mode": {
    "name": "ipython",
    "version": 2
   },
   "file_extension": ".py",
   "mimetype": "text/x-python",
   "name": "python",
   "nbconvert_exporter": "python",
   "pygments_lexer": "ipython2",
   "version": "2.7.13"
  }
 },
 "nbformat": 4,
 "nbformat_minor": 2
}
