{
 "cells": [
  {
   "cell_type": "code",
   "execution_count": 1,
   "metadata": {},
   "outputs": [
    {
     "name": "stdout",
     "output_type": "stream",
     "text": [
      "Populating the interactive namespace from numpy and matplotlib\n"
     ]
    }
   ],
   "source": [
    "import pandas as pd\n",
    "import numpy as np\n",
    "from sklearn.preprocessing import LabelEncoder, StandardScaler\n",
    "from sklearn.ensemble import GradientBoostingClassifier\n",
    "from sklearn.model_selection import StratifiedKFold\n",
    "from sklearn.utils.class_weight import compute_class_weight\n",
    "from sklearn.linear_model import LassoCV\n",
    "from sklearn.model_selection import GridSearchCV\n",
    "from imblearn.under_sampling import RandomUnderSampler,NearMiss\n",
    "from imblearn.over_sampling import SMOTE\n",
    "from sklearn.model_selection import learning_curve\n",
    "from sklearn.metrics import classification_report, confusion_matrix,roc_auc_score, recall_score, precision_score\n",
    "import matplotlib.pylab as plt\n",
    "import warnings\n",
    "warnings.filterwarnings('ignore')\n",
    "%pylab inline"
   ]
  },
  {
   "cell_type": "markdown",
   "metadata": {},
   "source": [
    "##### Считывание данных из файлов"
   ]
  },
  {
   "cell_type": "code",
   "execution_count": 2,
   "metadata": {
    "collapsed": true
   },
   "outputs": [],
   "source": [
    "trainTable = pd.read_csv('train.csv')\n",
    "testTable = pd.read_csv('test.csv')\n",
    "holdoutTable = pd.read_csv('hold-out dataset.csv')\n",
    "\n",
    "testTable.drop(['ID'],axis = 1, inplace = True)"
   ]
  },
  {
   "cell_type": "markdown",
   "metadata": {},
   "source": [
    "##### Признаки с максимальной корреляцией из 1ой недели"
   ]
  },
  {
   "cell_type": "code",
   "execution_count": 3,
   "metadata": {
    "collapsed": true
   },
   "outputs": [],
   "source": [
    "#признаки с максимальной корреляцией с целевой переменной\n",
    "maxCorrFloatFeatures = ['Var153','Var38',\n",
    "                         'Var113','Var76','Var131','Var133','Var134','Var163','Var149','Var81','Var53',\n",
    "                         'Var98','Var111','Var28','Var126','Var123','Var83','Var132','Var50','Var35']\n",
    "\n",
    "maxCorrCatFeatures = ['Var192','Var216',\n",
    "                     'Var206','Var212','Var205','Var228','Var193','Var207','Var227','Var204','Var221',\n",
    "                     'Var210','Var218','Var226','Var197','Var225','Var211','Var195','Var219','Var194']"
   ]
  },
  {
   "cell_type": "markdown",
   "metadata": {},
   "source": [
    "##### Сделаем начальное преобразование данных"
   ]
  },
  {
   "cell_type": "code",
   "execution_count": 4,
   "metadata": {
    "collapsed": true
   },
   "outputs": [],
   "source": [
    "def transformData(df, numColumns = None, catColumns = None, encoder = 'OneHot', nanFillStrategy = 'zero', \n",
    "                  nrows = 'all objects', preprocessData = True, dataSample = 'withTarget'):\n",
    "    if nrows == 'all objects':\n",
    "        df = df.sample(n = len(df), random_state = 42)\n",
    "    else:\n",
    "        df = df.sample(n = nrows, random_state = 42)\n",
    "    \n",
    "    if preprocessData:\n",
    "        allNumColumns = list(df.select_dtypes(include=[np.float]).columns)\n",
    "        allCatColumns = list(df.select_dtypes(include=['object']).columns)\n",
    "        \n",
    "        if numColumns != None:\n",
    "            allNumColumns = numColumns\n",
    "        if catColumns != None:\n",
    "            allCatColumns = catColumns\n",
    "        \n",
    "        if dataSample == 'withTarget':\n",
    "            df = df[allNumColumns + allCatColumns + ['label']]\n",
    "        else:\n",
    "            df = df[allNumColumns + allCatColumns]\n",
    "        \n",
    "        if nanFillStrategy == 'zero':\n",
    "            df[allNumColumns] = df[allNumColumns].fillna(0)\n",
    "        elif nanFillStrategy == 'mean':\n",
    "            for col in allNumColumns:\n",
    "                nanCount = df[col].isnull().sum()\n",
    "                if nanCount == len(df):\n",
    "                    df[col] = df[col].fillna(0)\n",
    "                else:\n",
    "                    df[col] = df[col].fillna(df[col].mean())                                                         \n",
    "            \n",
    "        stdScaler = StandardScaler()\n",
    "        df[allNumColumns] = stdScaler.fit_transform(df[allNumColumns])\n",
    "        \n",
    "        df[allCatColumns] = df[allCatColumns].fillna('unknown')\n",
    "        if encoder == 'OneHot':\n",
    "            df = pd.get_dummies(df, columns = allCatColumns)\n",
    "        if encoder == 'LabelEncoder':\n",
    "            df[allCatColumns] = df[allCatColumns].apply(LabelEncoder().fit_transform)\n",
    "            \n",
    "        try:\n",
    "            label = df.pop('label')\n",
    "            df['label']=label \n",
    "        except KeyError:\n",
    "            pass\n",
    "        print ('table was transformed!')\n",
    "        return df\n",
    "    \n",
    "def featureUnion(*args):\n",
    "    return list(set.intersection(*map(set, args)))\n",
    "\n",
    "def returnWeightedTarget(array, weights):\n",
    "    return map(lambda x:weights[0] if x == -1 else weights[1], array)"
   ]
  },
  {
   "cell_type": "code",
   "execution_count": 17,
   "metadata": {},
   "outputs": [
    {
     "name": "stdout",
     "output_type": "stream",
     "text": [
      "table was transformed!\n",
      "table was transformed!\n",
      "table was transformed!\n"
     ]
    }
   ],
   "source": [
    "trainSet = transformData(trainTable, encoder='LabelEncoder')\n",
    "testSet = transformData(testTable, encoder = 'LabelEncoder', dataSample='noTarget')\n",
    "holdoutSet = transformData(holdoutTable, encoder = 'LabelEncoder')"
   ]
  },
  {
   "cell_type": "markdown",
   "metadata": {},
   "source": [
    "## Инструкции"
   ]
  },
  {
   "cell_type": "markdown",
   "metadata": {},
   "source": [
    "1\\. Начнем с простого. Давайте оценим как много объектов действительно нужно для построения качественной модели. Для обучения доступна достаточно большая выборка и может так оказаться, что начиная с некоторого момента рост размера обучающей выборки перестает влиять на качество модели. Постройте кривые обучения, обучая модель на выборках разного размера начиная с небольшого количество объектов в обучающей выборке и постепенно наращивая её размер с некоторым шагом. Обратите внимание на `sklearn.model_selection.learning_curve`"
   ]
  },
  {
   "cell_type": "code",
   "execution_count": 43,
   "metadata": {},
   "outputs": [
    {
     "data": {
      "text/plain": [
       "<module 'matplotlib.pyplot' from 'C:\\Users\\swink_000\\Anaconda2\\lib\\site-packages\\matplotlib\\pyplot.pyc'>"
      ]
     },
     "execution_count": 43,
     "metadata": {},
     "output_type": "execute_result"
    },
    {
     "data": {
      "image/png": "[encoded data removed]",
      "text/plain": [
       "<matplotlib.figure.Figure at 0x47fe9c88>"
      ]
     },
     "metadata": {},
     "output_type": "display_data"
    }
   ],
   "source": [
    "def plot_learning_curve(estimator, title, X, y, ylim=None, cv=None,\n",
    "                        n_jobs=1, train_sizes=np.linspace(.1, 1.0, 7)):\n",
    "    plt.figure()\n",
    "    plt.title(title)\n",
    "    if ylim is not None:\n",
    "        plt.ylim(*ylim)\n",
    "    plt.xlabel(\"Training examples\")\n",
    "    plt.ylabel(\"Score\")\n",
    "    train_sizes, train_scores, test_scores = learning_curve(\n",
    "        estimator, X, y, cv=cv,scoring = 'roc_auc', n_jobs=n_jobs, train_sizes=train_sizes)\n",
    "    train_scores_mean = np.mean(train_scores, axis=1)\n",
    "    train_scores_std = np.std(train_scores, axis=1)\n",
    "    test_scores_mean = np.mean(test_scores, axis=1)\n",
    "    test_scores_std = np.std(test_scores, axis=1)\n",
    "    plt.grid()\n",
    "\n",
    "    plt.fill_between(train_sizes, train_scores_mean - train_scores_std,\n",
    "                     train_scores_mean + train_scores_std, alpha=0.1,\n",
    "                     color=\"r\")\n",
    "    plt.fill_between(train_sizes, test_scores_mean - test_scores_std,\n",
    "                     test_scores_mean + test_scores_std, alpha=0.1, color=\"g\")\n",
    "    plt.plot(train_sizes, train_scores_mean, 'o-', color=\"r\",\n",
    "             label=\"Training score\")\n",
    "    plt.plot(train_sizes, test_scores_mean, 'o-', color=\"g\",\n",
    "             label=\"Cross-validation score\")\n",
    "\n",
    "    plt.legend(loc=\"best\")\n",
    "    return plt\n",
    "\n",
    "X, y = trainSet.iloc[:,:-1], trainSet['label']\n",
    "\n",
    "title = \"Learning Curves (Gradient Boosting)\"\n",
    "\n",
    "cv = StratifiedKFold(n_splits=7, shuffle = True)\n",
    "\n",
    "estimator = GradientBoostingClassifier(random_state = 42)\n",
    "plot_learning_curve(estimator, title, X, y, ylim=(0.7, 1.01), cv=cv, n_jobs=-1)"
   ]
  },
  {
   "cell_type": "markdown",
   "metadata": {},
   "source": [
    "По графику кросс-валидации видно, что кривая качества выходит на асимпототу(~0.72) начиная с 11к объектов выборки. Остановимся на этом количестве."
   ]
  },
  {
   "cell_type": "code",
   "execution_count": 50,
   "metadata": {},
   "outputs": [
    {
     "name": "stdout",
     "output_type": "stream",
     "text": [
      "table was transformed!\n"
     ]
    }
   ],
   "source": [
    "trainSet = transformData(trainTable, encoder='LabelEncoder', nrows=11000)"
   ]
  },
  {
   "cell_type": "markdown",
   "metadata": {},
   "source": [
    "22. Часто несбалансированные по классам выборки приводят к различным проблемам при обучении моделей. Давайте попробуем по-разному обработать выборку, поиграть с распределением объектов по классам и сделать выводы о том, как соотношение классов влияет на качество модели."
   ]
  },
  {
   "cell_type": "code",
   "execution_count": 7,
   "metadata": {
    "collapsed": true
   },
   "outputs": [],
   "source": [
    "def countBalancedClass(labelSet):\n",
    "    return compute_class_weight(class_weight = 'balanced', classes  = [-1,1], y = labelSet)"
   ]
  },
  {
   "cell_type": "code",
   "execution_count": 19,
   "metadata": {},
   "outputs": [
    {
     "name": "stdout",
     "output_type": "stream",
     "text": [
      "Confusion Matrix\n",
      "[[7373    6]\n",
      " [ 615    6]]\n",
      "****************************************************************\n",
      "Roc-auc = 0.50442435872\n",
      "****************************************************************\n",
      "Classification Report with weight distr = [1, 1]\n",
      "             precision    recall  f1-score   support\n",
      "\n",
      "         -1       0.92      1.00      0.96      7379\n",
      "          1       0.50      0.01      0.02       621\n",
      "\n",
      "avg / total       0.89      0.92      0.89      8000\n",
      "\n",
      "\n",
      "\n",
      "Confusion Matrix\n",
      "[[7276  103]\n",
      " [ 563   58]]\n",
      "****************************************************************\n",
      "Roc-auc = 0.539719607303\n",
      "****************************************************************\n",
      "Classification Report with weight distr = [0.5, 2]\n",
      "             precision    recall  f1-score   support\n",
      "\n",
      "         -1       0.93      0.99      0.96      7379\n",
      "          1       0.36      0.09      0.15       621\n",
      "\n",
      "avg / total       0.88      0.92      0.89      8000\n",
      "\n",
      "\n",
      "\n",
      "Confusion Matrix\n",
      "[[6778  601]\n",
      " [ 425  196]]\n",
      "****************************************************************\n",
      "Roc-auc = 0.617086308602\n",
      "****************************************************************\n",
      "Classification Report with weight distr = [0.5, 4]\n",
      "             precision    recall  f1-score   support\n",
      "\n",
      "         -1       0.94      0.92      0.93      7379\n",
      "          1       0.25      0.32      0.28       621\n",
      "\n",
      "avg / total       0.89      0.87      0.88      8000\n",
      "\n",
      "\n",
      "\n",
      "Confusion Matrix\n",
      "[[5666 1713]\n",
      " [ 266  355]]\n",
      "****************************************************************\n",
      "Roc-auc = 0.669756669\n",
      "****************************************************************\n",
      "Classification Report with weight distr = [0.53972002023950072, 6.7940552016985141]\n",
      "             precision    recall  f1-score   support\n",
      "\n",
      "         -1       0.96      0.77      0.85      7379\n",
      "          1       0.17      0.57      0.26       621\n",
      "\n",
      "avg / total       0.89      0.75      0.81      8000\n",
      "\n",
      "\n",
      "\n",
      "Confusion Matrix\n",
      "[[4943 2436]\n",
      " [ 191  430]]\n",
      "****************************************************************\n",
      "Roc-auc = 0.681152764329\n",
      "****************************************************************\n",
      "Classification Report with weight distr = [0.5, 8]\n",
      "             precision    recall  f1-score   support\n",
      "\n",
      "         -1       0.96      0.67      0.79      7379\n",
      "          1       0.15      0.69      0.25       621\n",
      "\n",
      "avg / total       0.90      0.67      0.75      8000\n",
      "\n",
      "\n",
      "\n",
      "Confusion Matrix\n",
      "[[4233 3146]\n",
      " [ 141  480]]\n",
      "****************************************************************\n",
      "Roc-auc = 0.673300913351\n",
      "****************************************************************\n",
      "Classification Report with weight distr = [0.5, 10]\n",
      "             precision    recall  f1-score   support\n",
      "\n",
      "         -1       0.97      0.57      0.72      7379\n",
      "          1       0.13      0.77      0.23       621\n",
      "\n",
      "avg / total       0.90      0.59      0.68      8000\n",
      "\n",
      "\n",
      "\n"
     ]
    }
   ],
   "source": [
    "balancedClass = countBalancedClass(trainSet['label'])\n",
    "weigthList = [[1,1],\n",
    "              [0.5, 2],#4 times\n",
    "              [0.5, 4],#8 times\n",
    "             [balancedClass[0], balancedClass[1]],#12 times\n",
    "              [0.5,8],#16 times\n",
    "              [0.5,10]#20  times\n",
    "             ]\n",
    "\n",
    "for weight in weigthList:\n",
    "    clf = GradientBoostingClassifier(random_state = 42).fit(trainSet.iloc[:, :-1], trainSet['label'],\n",
    "                                sample_weight = returnWeightedTarget(list(trainSet['label']), weight))\n",
    "    preds = clf.predict(holdoutSet.iloc[:, :-1])\n",
    "    \n",
    "    print \"Confusion Matrix\"\n",
    "    print confusion_matrix(holdoutSet['label'], preds)\n",
    "    print '*' * 64\n",
    "    print \"Roc-auc = {0}\".format(roc_auc_score(holdoutSet['label'], preds))\n",
    "    print '*' * 64\n",
    "    print \"Classification Report with weight distr = {0}\".format(weight)\n",
    "    print classification_report(holdoutSet['label'], preds)\n",
    "    print '\\n'"
   ]
  },
  {
   "cell_type": "markdown",
   "metadata": {},
   "source": [
    "Остановимся на сбалансированном распределении весов классов при обучении на данной выборке."
   ]
  },
  {
   "cell_type": "markdown",
   "metadata": {},
   "source": [
    "2.2. Примените к выборке технологию undersampling: для этого нужно убрать из обучения некоторое количество объектов большего класса таким образом, чтобы соотношение классов изменилось. Попробуйте не менее трёх различных вариантов undersampling (варианты могут отличаться как по количество отфильтрованных объектов, так и по принципу выборка объектов для отсеивания из выборки). Меняются ли результаты классификации? Как это сказывается на качестве модели? Какой вариант выглядит наиболее оптимальным с точки зрения качества?"
   ]
  },
  {
   "cell_type": "code",
   "execution_count": 68,
   "metadata": {
    "collapsed": true
   },
   "outputs": [
    {
     "name": "stdout",
     "output_type": "stream",
     "text": [
      "Confusion Matrix\n",
      "[[4718 2661]\n",
      " [ 228  393]]\n",
      "****************************************************************\n",
      "Roc-auc = 0.636116135816\n",
      "****************************************************************\n",
      "Classification Report\n",
      "             precision    recall  f1-score   support\n",
      "\n",
      "         -1       0.95      0.64      0.77      7379\n",
      "          1       0.13      0.63      0.21       621\n",
      "\n",
      "avg / total       0.89      0.64      0.72      8000\n",
      "\n",
      "\n",
      "\n",
      "Confusion Matrix\n",
      "[[1638 5741]\n",
      " [  43  578]]\n",
      "****************************************************************\n",
      "Roc-auc = 0.57636907104\n",
      "****************************************************************\n",
      "Classification Report\n",
      "             precision    recall  f1-score   support\n",
      "\n",
      "         -1       0.97      0.22      0.36      7379\n",
      "          1       0.09      0.93      0.17       621\n",
      "\n",
      "avg / total       0.91      0.28      0.35      8000\n",
      "\n",
      "\n",
      "\n",
      "Confusion Matrix\n",
      "[[5938 1441]\n",
      " [ 373  248]]\n",
      "****************************************************************\n",
      "Roc-auc = 0.602035981904\n",
      "****************************************************************\n",
      "Classification Report\n",
      "             precision    recall  f1-score   support\n",
      "\n",
      "         -1       0.94      0.80      0.87      7379\n",
      "          1       0.15      0.40      0.21       621\n",
      "\n",
      "avg / total       0.88      0.77      0.82      8000\n",
      "\n",
      "\n",
      "\n"
     ]
    }
   ],
   "source": [
    "SamplingStrategies = [\n",
    "    RandomUnderSampler(ratio = 'majority', random_state=42),\n",
    "    SMOTE(random_state=42),\n",
    "    NearMiss(ratio = 'majority', version = 3, random_state=42)\n",
    "]\n",
    "\n",
    "for strategy in SamplingStrategies:\n",
    "    resampledX, resampledY = strategy.fit_sample(train.iloc[:, :-1], train['label'])\n",
    "    clf = GradientBoostingClassifier(random_state=42).fit(resampledX, resampledY)\n",
    "    preds = clf.predict(holdoutSet.iloc[:,:-1])\n",
    "    \n",
    "    print \"Confusion Matrix\"\n",
    "    print confusion_matrix(holdoutSet['label'], preds)\n",
    "    print '*' * 64\n",
    "    print \"Roc-auc = {0}\".format(roc_auc_score(holdoutSet['label'], preds))\n",
    "    print '*' * 64\n",
    "    print \"Classification Report\"\n",
    "    print classification_report(holdoutSet['label'], preds)\n",
    "    print '\\n'"
   ]
  },
  {
   "cell_type": "markdown",
   "metadata": {},
   "source": [
    "Использование сэмплирования приводит к худшим результатам нежели распределение весов, поэтому будет использовать распределение весов в дальнейшем."
   ]
  },
  {
   "cell_type": "markdown",
   "metadata": {},
   "source": [
    "3. Теперь перейдем к работе с признаками. Ранее вы реализовали несколько стратегий для обработки пропущенных значений. Сравните эти стратегии между собой с помощью оценки качества моделей кросс-валидации, построенных на датасетах с использованием различных стратегий. Как обработка пропущенных значений сказывается на качестве модели? Какой вариант выглядит наиболее оптимальным с точки зрения качества?"
   ]
  },
  {
   "cell_type": "code",
   "execution_count": 20,
   "metadata": {},
   "outputs": [
    {
     "name": "stdout",
     "output_type": "stream",
     "text": [
      "zero fill strategy\n",
      "table was transformed!\n",
      "table was transformed!\n",
      "Confusion Matrix\n",
      "[[4943 2436]\n",
      " [ 191  430]]\n",
      "****************************************************************\n",
      "Roc-auc = 0.681152764329\n",
      "****************************************************************\n",
      "Classification Report\n",
      "             precision    recall  f1-score   support\n",
      "\n",
      "         -1       0.96      0.67      0.79      7379\n",
      "          1       0.15      0.69      0.25       621\n",
      "\n",
      "avg / total       0.90      0.67      0.75      8000\n",
      "\n",
      "\n",
      "\n",
      "mean fill strategy\n",
      "table was transformed!\n",
      "table was transformed!\n",
      "Confusion Matrix\n",
      "[[5030 2349]\n",
      " [ 203  418]]\n",
      "****************************************************************\n",
      "Roc-auc = 0.677386036319\n",
      "****************************************************************\n",
      "Classification Report\n",
      "             precision    recall  f1-score   support\n",
      "\n",
      "         -1       0.96      0.68      0.80      7379\n",
      "          1       0.15      0.67      0.25       621\n",
      "\n",
      "avg / total       0.90      0.68      0.75      8000\n",
      "\n",
      "\n",
      "\n"
     ]
    }
   ],
   "source": [
    "nanFillsStrategy = ['zero', 'mean']\n",
    "\n",
    "for filling in nanFillsStrategy:\n",
    "    print \"{0} fill strategy\".format(filling)\n",
    "    trainSet = transformData(trainTable, encoder='LabelEncoder', nanFillStrategy=filling)\n",
    "    holdoutSet = transformData(holdoutTable, encoder='LabelEncoder', nanFillStrategy=filling)\n",
    "    \n",
    "    clf = GradientBoostingClassifier(random_state=42).fit(trainSet.iloc[:, :-1], trainSet['label'],\n",
    "                    sample_weight = returnWeightedTarget(list(trainSet['label']), [0.5, 8]))\n",
    "    preds = clf.predict(holdoutSet.iloc[:, :-1])\n",
    "    print \"Confusion Matrix\"\n",
    "    print confusion_matrix(holdoutSet['label'], preds)\n",
    "    print '*' * 64\n",
    "    print \"Roc-auc = {0}\".format(roc_auc_score(holdoutSet['label'], preds))\n",
    "    print '*' * 64\n",
    "    print \"Classification Report\"\n",
    "    print classification_report(holdoutSet['label'], preds)\n",
    "    print '\\n'"
   ]
  },
  {
   "cell_type": "markdown",
   "metadata": {},
   "source": [
    "4. Также вы уже реализовали несколько стратегий для обработки категориальных признаков. Сравните эти стратегии между собой с помощью оценки качества моделей по кросс-валидации, построенных на датасетах с использованием различных стратегий. Как обработка категориальных признаков сказывается на качестве модели? Какой вариант выглядит наиболее оптимальным с точки зрения качества?"
   ]
  },
  {
   "cell_type": "code",
   "execution_count": 21,
   "metadata": {},
   "outputs": [
    {
     "name": "stdout",
     "output_type": "stream",
     "text": [
      "table was transformed!\n",
      "table was transformed!\n",
      "Confusion Matrix\n",
      "[[3931 3448]\n",
      " [ 143  478]]\n",
      "****************************************************************\n",
      "Roc-auc = 0.651227129956\n",
      "****************************************************************\n",
      "Classification Report\n",
      "             precision    recall  f1-score   support\n",
      "\n",
      "         -1       0.96      0.53      0.69      7379\n",
      "          1       0.12      0.77      0.21       621\n",
      "\n",
      "avg / total       0.90      0.55      0.65      8000\n",
      "\n",
      "\n",
      "\n"
     ]
    }
   ],
   "source": [
    "trainSet = transformData(trainTable, encoder='OneHot', nanFillStrategy='mean', \n",
    "                         nrows = 11000, dataSample = 'withTarget')\n",
    "holdoutSet = transformData(holdoutTable, encoder='OneHot', nanFillStrategy='mean', \n",
    "                           dataSample='withTarget')\n",
    "trainLabel, holdoutSetLabel = trainSet['label'], holdoutSet['label']\n",
    "trainSet.drop(['label'], axis = 1, inplace = True)\n",
    "holdoutSet.drop(['label'], axis = 1, inplace = True)\n",
    "commonFeatures = featureUnion(list(trainSet.columns), list(holdoutSet.columns))\n",
    "trainSet, holdoutSet = trainSet[commonFeatures],holdoutSet[commonFeatures]\n",
    "\n",
    "clf = GradientBoostingClassifier(random_state=42).fit(trainSet, trainLabel,\n",
    "        sample_weight = returnWeightedTarget(list(trainLabel), [0.5, 8]))\n",
    "preds = clf.predict(holdoutSet)\n",
    "print \"Confusion Matrix\"\n",
    "print confusion_matrix(holdoutSetLabel, preds)\n",
    "print '*' * 64\n",
    "print \"Roc-auc = {0}\".format(roc_auc_score(holdoutSetLabel, preds))\n",
    "print '*' * 64\n",
    "print \"Classification Report\"\n",
    "print classification_report(holdoutSetLabel, preds)\n",
    "print '\\n'"
   ]
  },
  {
   "cell_type": "markdown",
   "metadata": {},
   "source": [
    "5\\. Все ли признаки оказались полезными для построения моделей? Проведите процедуру отбора признаков, попробуйте разные варианты отбора (обратите внимание на модуль `sklearn.feature_selection`). Например, можно выбрасывать случайные признаки или строить отбор на основе l1-регуляризации - отфильтровать из обучения признаки, которые получат нулевой вес при построении регрессии с l1-регуляризацией (`sklearn.linear_model.Lasso`). И всегда можно придумать что-то своё=) Попробуйте как минимум 2 различные стратегии, сравните результаты. Помог ли отбор признаков улучшить качество модели? Поясните свой ответ."
   ]
  },
  {
   "cell_type": "code",
   "execution_count": 22,
   "metadata": {},
   "outputs": [
    {
     "name": "stdout",
     "output_type": "stream",
     "text": [
      "table was transformed!\n",
      "table was transformed!\n",
      "Getting features with Lasso...\n",
      "Lasso Alpha 0.0676825173828\n",
      "Confusion Matrix\n",
      "[[7285   94]\n",
      " [ 617    4]]\n",
      "****************************************************************\n",
      "Roc-auc = 0.496851185165\n",
      "****************************************************************\n",
      "Classification Report\n",
      "             precision    recall  f1-score   support\n",
      "\n",
      "         -1       0.92      0.99      0.95      7379\n",
      "          1       0.04      0.01      0.01       621\n",
      "\n",
      "avg / total       0.85      0.91      0.88      8000\n",
      "\n",
      "\n",
      "\n"
     ]
    }
   ],
   "source": [
    "#Lasso Feature Selection\n",
    "def lassoStrategy(X, y):\n",
    "    selectedFeatures = []\n",
    "    print 'Getting features with Lasso...'\n",
    "    lasso = LassoCV().fit(X, y)\n",
    "    lasso_coefs = lasso.coef_\n",
    "    print 'Lasso Alpha', lasso.alpha_\n",
    "    for features, coefs in zip(X.columns, lasso_coefs):\n",
    "        if coefs > 0:\n",
    "            selectedFeatures.append(features)\n",
    "    return selectedFeatures\n",
    "\n",
    "trainSet = transformData(trainTable,encoder = 'LabelEncoder', nanFillStrategy = 'zero')\n",
    "holdoutSet = transformData(holdoutTable, encoder = 'LabelEncoder', nanFillStrategy = 'zero')\n",
    "selectedFeatures = lassoStrategy(trainSet.iloc[:, :-1], trainSet['label'])\n",
    "\n",
    "clf = GradientBoostingClassifier(random_state=42).fit(trainSet[selectedFeatures], trainSet['label'],\n",
    "        sample_weight = returnWeightedTarget(list(trainSet['label']), [0.5, 8]))\n",
    "preds = clf.predict(holdoutSet[selectedFeatures])\n",
    "print \"Confusion Matrix\"\n",
    "print confusion_matrix(holdoutSet['label'], preds)\n",
    "print '*' * 64\n",
    "print \"Roc-auc = {0}\".format(roc_auc_score(holdoutSet['label'], preds))\n",
    "print '*' * 64\n",
    "print \"Classification Report\"\n",
    "print classification_report(holdoutSet['label'], preds)\n",
    "print '\\n'"
   ]
  },
  {
   "cell_type": "code",
   "execution_count": 23,
   "metadata": {},
   "outputs": [
    {
     "name": "stdout",
     "output_type": "stream",
     "text": [
      "table was transformed!\n",
      "table was transformed!\n",
      "Confusion Matrix\n",
      "[[4932 2447]\n",
      " [ 184  437]]\n",
      "****************************************************************\n",
      "Roc-auc = 0.686043476733\n",
      "****************************************************************\n",
      "Classification Report\n",
      "             precision    recall  f1-score   support\n",
      "\n",
      "         -1       0.96      0.67      0.79      7379\n",
      "          1       0.15      0.70      0.25       621\n",
      "\n",
      "avg / total       0.90      0.67      0.75      8000\n",
      "\n",
      "\n",
      "\n"
     ]
    }
   ],
   "source": [
    "#Top correlated Features\n",
    "trainSet = transformData(trainTable, \n",
    "                         catColumns = maxCorrCatFeatures, \n",
    "                         encoder = 'LabelEncoder', nanFillStrategy = 'zero')\n",
    "holdoutSet = transformData(holdoutTable, \n",
    "                         catColumns = maxCorrCatFeatures, \n",
    "                         encoder = 'LabelEncoder', nanFillStrategy = 'zero')\n",
    "\n",
    "clf = GradientBoostingClassifier(random_state=42).fit(trainSet.iloc[:,:-1], trainSet['label'],\n",
    "        sample_weight = returnWeightedTarget(list(trainSet['label']), [0.5, 8]))\n",
    "preds = clf.predict(holdoutSet.iloc[:, :-1])\n",
    "print \"Confusion Matrix\"\n",
    "print confusion_matrix(holdoutSet['label'], preds)\n",
    "print '*' * 64\n",
    "print \"Roc-auc = {0}\".format(roc_auc_score(holdoutSet['label'], preds))\n",
    "print '*' * 64\n",
    "print \"Classification Report\"\n",
    "print classification_report(holdoutSet['label'], preds)\n",
    "print '\\n'\n",
    "                         "
   ]
  },
  {
   "cell_type": "markdown",
   "metadata": {},
   "source": [
    "6\\. Подберите оптимальные параметры модели. Обратите внимание, что в зависимости от того, как вы обработали исходные данные, сделали ли балансировку классов, сколько объектов оставили в обучающей выборке и др. оптимальные значения параметров могут меняться. Возьмите наилучшее из ваших решений на текущий момент и проведите процедуру подбора параметров модели (обратите внимание на `sklearn.model_selection.GridSearchCV`) Как подбор параметров повлиял на качество модели?"
   ]
  },
  {
   "cell_type": "code",
   "execution_count": 5,
   "metadata": {},
   "outputs": [
    {
     "name": "stdout",
     "output_type": "stream",
     "text": [
      "table was transformed!\n",
      "table was transformed!\n"
     ]
    }
   ],
   "source": [
    "trainSet = transformData(trainTable, encoder = 'LabelEncoder', \n",
    "                         catColumns = maxCorrCatFeatures,nanFillStrategy = 'zero')\n",
    "holdoutSet = transformData(holdoutTable, encoder = 'LabelEncoder', \n",
    "                           catColumns = maxCorrCatFeatures, nanFillStrategy = 'zero')"
   ]
  },
  {
   "cell_type": "markdown",
   "metadata": {},
   "source": [
    "Сначала запустим Градиентный бустинг со стандартными параметрами"
   ]
  },
  {
   "cell_type": "code",
   "execution_count": 7,
   "metadata": {},
   "outputs": [
    {
     "name": "stdout",
     "output_type": "stream",
     "text": [
      "Confusion Matrix\n",
      "[[4932 2447]\n",
      " [ 184  437]]\n",
      "****************************************************************\n",
      "Roc-auc = 0.686043476733\n",
      "Recall = 0.703703703704\n",
      "Precision = 0.151525658807\n",
      "****************************************************************\n",
      "Classification Report\n",
      "             precision    recall  f1-score   support\n",
      "\n",
      "         -1       0.96      0.67      0.79      7379\n",
      "          1       0.15      0.70      0.25       621\n",
      "\n",
      "avg / total       0.90      0.67      0.75      8000\n",
      "\n",
      "\n",
      "\n",
      "Wall time: 54.2 s\n"
     ]
    }
   ],
   "source": [
    "%%time\n",
    "baseline = GradientBoostingClassifier(random_state=42)\n",
    "baseline.fit(trainSet.iloc[:, :-1],trainSet['label'], \n",
    "             sample_weight = returnWeightedTarget(list(trainSet['label']), [0.5, 8]))\n",
    "preds = baseline.predict(holdoutSet.iloc[:, :-1])\n",
    "\n",
    "print \"Confusion Matrix\"\n",
    "print confusion_matrix(holdoutSet['label'], preds)\n",
    "print '*' * 64\n",
    "print \"Roc-auc = {0}\".format(roc_auc_score(holdoutSet['label'], preds))\n",
    "print \"Recall = {0}\".format(recall_score(holdoutSet['label'], preds, average = 'binary'))\n",
    "print \"Precision = {0}\".format(precision_score(holdoutSet['label'], preds, average = 'binary'))\n",
    "print '*' * 64\n",
    "print \"Classification Report\"\n",
    "print classification_report(holdoutSet['label'], preds)\n",
    "print '\\n'"
   ]
  },
  {
   "cell_type": "markdown",
   "metadata": {},
   "source": [
    "Подбор estimators"
   ]
  },
  {
   "cell_type": "code",
   "execution_count": null,
   "metadata": {
    "collapsed": true
   },
   "outputs": [],
   "source": [
    "%%time\n",
    "p_test1 = {'learning_rate':[0.15, 0.01, 0.001], \n",
    "           'n_estimators':[100,250,500, 750]}\n",
    "tuning = GridSearchCV(estimator = GradientBoostingClassifier(random_state=42), \n",
    "                      param_grid = p_test1, \n",
    "                      scoring='roc_auc',n_jobs=-1,iid=False, cv=5)\n",
    "tuning.fit(trainSet.iloc[:, :-1],trainSet['label'], \n",
    "        sample_weight = returnWeightedTarget(list(trainSet['label']), [0.5, 8]))\n",
    "print tuning.best_params_, tuning.best_score_\n",
    "\n",
    "\n",
    "preds = tuning.predict(holdoutSet.iloc[:, :-1])\n",
    "\n",
    "print \"Confusion Matrix\"\n",
    "print confusion_matrix(holdoutSet['label'], preds)\n",
    "print '*' * 64\n",
    "print \"Roc-auc = {0}\".format(roc_auc_score(holdoutSet['label'], preds))\n",
    "print \"Recall = {0}\".format(recall_score(holdoutSet['label'], preds, average = 'binary'))\n",
    "print \"Precision = {0}\".format(precision_score(holdoutSet['label'], preds, average = 'binary'))\n",
    "print '*' * 64\n",
    "print \"Classification Report\"\n",
    "print classification_report(holdoutSet['label'], preds)\n",
    "print '\\n'"
   ]
  },
  {
   "cell_type": "markdown",
   "metadata": {},
   "source": [
    "Подбор max_depth"
   ]
  },
  {
   "cell_type": "code",
   "execution_count": 6,
   "metadata": {},
   "outputs": [
    {
     "name": "stdout",
     "output_type": "stream",
     "text": [
      "{'max_depth': 2} 0.727515801815\n",
      "Confusion Matrix\n",
      "[[4085 3294]\n",
      " [ 135  486]]\n",
      "****************************************************************\n",
      "Roc-auc = 0.668103372084\n",
      "Recall = 0.782608695652\n",
      "Precision = 0.128571428571\n",
      "****************************************************************\n",
      "Classification Report\n",
      "             precision    recall  f1-score   support\n",
      "\n",
      "         -1       0.97      0.55      0.70      7379\n",
      "          1       0.13      0.78      0.22       621\n",
      "\n",
      "avg / total       0.90      0.57      0.67      8000\n",
      "\n",
      "\n",
      "\n",
      "Wall time: 34min 2s\n"
     ]
    }
   ],
   "source": [
    "%%time\n",
    "p_test2 = {'max_depth':[2,4,6]}\n",
    "tuning = GridSearchCV(estimator =GradientBoostingClassifier(n_estimators=750, \n",
    "                                                            learning_rate = 0.01,\n",
    "                                                            random_state=42),       \n",
    "            param_grid = p_test2, scoring='roc_auc',n_jobs=-1,iid=False, cv=5)\n",
    "\n",
    "tuning.fit(trainSet.iloc[:, :-1],trainSet['label'], \n",
    "        sample_weight = returnWeightedTarget(list(trainSet['label']), [0.5, 8]))\n",
    "print tuning.best_params_, tuning.best_score_\n",
    "\n",
    "preds = tuning.predict(holdoutSet.iloc[:, :-1])\n",
    "\n",
    "print \"Confusion Matrix\"\n",
    "print confusion_matrix(holdoutSet['label'], preds)\n",
    "print '*' * 64\n",
    "print \"Roc-auc = {0}\".format(roc_auc_score(holdoutSet['label'], preds))\n",
    "print \"Recall = {0}\".format(recall_score(holdoutSet['label'], preds, average = 'binary'))\n",
    "print \"Precision = {0}\".format(precision_score(holdoutSet['label'], preds, average = 'binary'))\n",
    "print '*' * 64\n",
    "print \"Classification Report\"\n",
    "print classification_report(holdoutSet['label'], preds)\n",
    "print '\\n'"
   ]
  },
  {
   "cell_type": "markdown",
   "metadata": {},
   "source": [
    "Подбор min_samples_split и min_samples_leaf"
   ]
  },
  {
   "cell_type": "code",
   "execution_count": 8,
   "metadata": {},
   "outputs": [
    {
     "name": "stdout",
     "output_type": "stream",
     "text": [
      "{'min_samples_split': 40, 'min_samples_leaf': 1} 0.727515945053\n",
      "Confusion Matrix\n",
      "[[4085 3294]\n",
      " [ 135  486]]\n",
      "****************************************************************\n",
      "Roc-auc = 0.668103372084\n",
      "Recall = 0.782608695652\n",
      "Precision = 0.128571428571\n",
      "****************************************************************\n",
      "Classification Report\n",
      "             precision    recall  f1-score   support\n",
      "\n",
      "         -1       0.97      0.55      0.70      7379\n",
      "          1       0.13      0.78      0.22       621\n",
      "\n",
      "avg / total       0.90      0.57      0.67      8000\n",
      "\n",
      "\n",
      "\n",
      "Wall time: 40min 17s\n"
     ]
    }
   ],
   "source": [
    "%%time\n",
    "p_test3 = {'min_samples_split':[2, 8, 40, 80], \n",
    "           'min_samples_leaf':[1, 3, 7]}\n",
    "\n",
    "tuning = GridSearchCV(estimator =GradientBoostingClassifier(learning_rate=0.01, n_estimators=750,\n",
    "                                                            max_depth=2,random_state=42), \n",
    "            param_grid = p_test3, scoring='roc_auc',n_jobs=-1,iid=False, cv=5)\n",
    "\n",
    "tuning.fit(trainSet.iloc[:, :-1],trainSet['label'], \n",
    "        sample_weight = returnWeightedTarget(list(trainSet['label']), [0.5, 8]))\n",
    "print tuning.best_params_, tuning.best_score_\n",
    "\n",
    "preds = tuning.predict(holdoutSet.iloc[:, :-1])\n",
    "\n",
    "print \"Confusion Matrix\"\n",
    "print confusion_matrix(holdoutSet['label'], preds)\n",
    "print '*' * 64\n",
    "print \"Roc-auc = {0}\".format(roc_auc_score(holdoutSet['label'], preds))\n",
    "print \"Recall = {0}\".format(recall_score(holdoutSet['label'], preds, average = 'binary'))\n",
    "print \"Precision = {0}\".format(precision_score(holdoutSet['label'], preds, average = 'binary'))\n",
    "print '*' * 64\n",
    "print \"Classification Report\"\n",
    "print classification_report(holdoutSet['label'], preds)\n",
    "print '\\n'"
   ]
  },
  {
   "cell_type": "markdown",
   "metadata": {},
   "source": [
    "Подбор max_features"
   ]
  },
  {
   "cell_type": "code",
   "execution_count": 9,
   "metadata": {},
   "outputs": [
    {
     "name": "stdout",
     "output_type": "stream",
     "text": [
      "{'max_features': 'log2'} 0.703501985097\n",
      "Confusion Matrix\n",
      "[[6460  919]\n",
      " [ 411  210]]\n",
      "****************************************************************\n",
      "Roc-auc = 0.606810815128\n",
      "Recall = 0.338164251208\n",
      "Precision = 0.186005314438\n",
      "****************************************************************\n",
      "Classification Report\n",
      "             precision    recall  f1-score   support\n",
      "\n",
      "         -1       0.94      0.88      0.91      7379\n",
      "          1       0.19      0.34      0.24       621\n",
      "\n",
      "avg / total       0.88      0.83      0.85      8000\n",
      "\n",
      "\n",
      "\n",
      "Wall time: 10min 51s\n"
     ]
    }
   ],
   "source": [
    "%%time\n",
    "p_test4 = {'max_features':['auto','log2', None]}\n",
    "tuning = GridSearchCV(estimator =GradientBoostingClassifier(learning_rate=0.15, n_estimators=750,\n",
    "                                                            min_samples_split=40, \n",
    "                                                            min_samples_leaf=1, \n",
    "                                                            random_state=42), \n",
    "param_grid = p_test4, scoring='roc_auc',n_jobs=-1,iid=False, cv=5)\n",
    "tuning.fit(trainSet.iloc[:, :-1],trainSet['label'], \n",
    "        sample_weight = returnWeightedTarget(list(trainSet['label']), [0.5, 8]))\n",
    "print tuning.best_params_, tuning.best_score_\n",
    "\n",
    "preds = tuning.predict(holdoutSet.iloc[:, :-1])\n",
    "\n",
    "print \"Confusion Matrix\"\n",
    "print confusion_matrix(holdoutSet['label'], preds)\n",
    "print '*' * 64\n",
    "print \"Roc-auc = {0}\".format(roc_auc_score(holdoutSet['label'], preds))\n",
    "print \"Recall = {0}\".format(recall_score(holdoutSet['label'], preds, average = 'binary'))\n",
    "print \"Precision = {0}\".format(precision_score(holdoutSet['label'], preds, average = 'binary'))\n",
    "print '*' * 64\n",
    "print \"Classification Report\"\n",
    "print classification_report(holdoutSet['label'], preds)\n",
    "print '\\n'"
   ]
  },
  {
   "cell_type": "markdown",
   "metadata": {},
   "source": [
    "Подбор subsample"
   ]
  },
  {
   "cell_type": "code",
   "execution_count": null,
   "metadata": {
    "collapsed": true
   },
   "outputs": [],
   "source": [
    "%%time\n",
    "p_test5= {'subsample':[0.85, 0.95, 1]}\n",
    "tuning = GridSearchCV(estimator =GradientBoostingClassifier(learning_rate=0.15, n_estimators= 100,\n",
    "                                                            max_depth=4, min_samples_split=80, \n",
    "                                                            min_samples_leaf=1,max_features='auto' , \n",
    "                                                            random_state=42), \n",
    "                                    param_grid = p_test5, scoring='roc_auc',n_jobs=-1,iid=False, cv=5)\n",
    "tuning.fit(trainSet.iloc[:, :-1],trainSet['label'], \n",
    "        sample_weight = returnWeightedTarget(list(trainSet['label']), [0.5, 8]))\n",
    "print tuning.best_params_, tuning.best_score_\n",
    "\n",
    "preds = tuning.predict(holdoutSet.iloc[:, :-1])\n",
    "\n",
    "print \"Confusion Matrix\"\n",
    "print confusion_matrix(holdoutSet['label'], preds)\n",
    "print '*' * 64\n",
    "print \"Roc-auc = {0}\".format(roc_auc_score(holdoutSet['label'], preds))\n",
    "print \"Recall = {0}\".format(recall_score(holdoutSet['label'], preds, average = 'binary'))\n",
    "print \"Precision = {0}\".format(precision_score(holdoutSet['label'], preds, average = 'binary'))\n",
    "print '*' * 64\n",
    "print \"Classification Report\"\n",
    "print classification_report(holdoutSet['label'], preds)\n",
    "print '\\n'"
   ]
  },
  {
   "cell_type": "markdown",
   "metadata": {},
   "source": [
    "7\\. Предложите методику оценки того, какие признаки внесли наибольший вклад в модель (например, это могут быть веса в случае регрессии, а также большое количество моделей реализуют метод `feature_importances_` - оценка важности признаков). На основе предложенной методики проанализируйте, какие признаки внесли больший вклад в модель, а какие меньший?"
   ]
  },
  {
   "cell_type": "code",
   "execution_count": null,
   "metadata": {
    "collapsed": true
   },
   "outputs": [],
   "source": [
    "predictors=list(trainSet.iloc[:, :-1])\n",
    "feat_imp = pd.Series(tuning.feature_importances_, predictors).sort_values(ascending=False)[:15]\n",
    "feat_imp.plot(kind='bar', title='Importance of Features')\n",
    "plt.ylabel('Feature Importance Score')"
   ]
  },
  {
   "cell_type": "markdown",
   "metadata": {},
   "source": [
    "8\\. Напоследок давайте посмотрим на объекты. На каких объектах достигается наибольшая ошибка классификации? Есть ли межу этими объектами что-то общее? Видны ли какие-либо закономерности? Предположите, почему наибольшая ошибка достигается именно на этих объектах. В данном случае \"наибольшую\" ошибку можно понимать как отнесение объекта с чужому классу с большой долей уверенности (с высокой вероятностью)."
   ]
  },
  {
   "cell_type": "code",
   "execution_count": null,
   "metadata": {
    "collapsed": true
   },
   "outputs": [],
   "source": [
    "print confusion_matrix(holdoutSet['label'], preds)"
   ]
  },
  {
   "cell_type": "markdown",
   "metadata": {},
   "source": [
    "9\\. По итогам проведенных экспериментов постройте финальную решение - модель с наилучшим качеством. Укажите, какие преобразования данных, параметры и пр. вы выбрали для построения финальной модели."
   ]
  },
  {
   "cell_type": "code",
   "execution_count": null,
   "metadata": {
    "collapsed": true
   },
   "outputs": [],
   "source": []
  }
 ],
 "metadata": {
  "kernelspec": {
   "display_name": "Python 2",
   "language": "python",
   "name": "python2"
  },
  "language_info": {
   "codemirror_mode": {
    "name": "ipython",
    "version": 2
   },
   "file_extension": ".py",
   "mimetype": "text/x-python",
   "name": "python",
   "nbconvert_exporter": "python",
   "pygments_lexer": "ipython2",
   "version": "2.7.13"
  }
 },
 "nbformat": 4,
 "nbformat_minor": 2
}
